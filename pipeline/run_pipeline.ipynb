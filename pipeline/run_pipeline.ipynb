{
 "cells": [
  {
   "cell_type": "code",
   "execution_count": 1,
   "id": "4c5a4186-9de7-452b-b0e2-907c79e66e7e",
   "metadata": {},
   "outputs": [],
   "source": [
    "# !pip install -U numexpr"
   ]
  },
  {
   "cell_type": "code",
   "execution_count": 2,
   "id": "12a3d782-7781-427d-ba16-0142bfdf968f",
   "metadata": {},
   "outputs": [
    {
     "name": "stdout",
     "output_type": "stream",
     "text": [
      "sagemaker.config INFO - Not applying SDK defaults from location: /etc/xdg/sagemaker/config.yaml\n",
      "sagemaker.config INFO - Not applying SDK defaults from location: /home/ec2-user/.config/sagemaker/config.yaml\n"
     ]
    }
   ],
   "source": [
    "\"\"\"\n",
    "Helper to upsert & start the AutoGluon Tabular SageMaker Pipeline.\n",
    "Adjust the parameter values below or pass environment variables.\n",
    "\"\"\"\n",
    "\n",
    "import os\n",
    "\n",
    "import boto3\n",
    "import sagemaker\n",
    "from sagemaker.workflow.pipeline_context import PipelineSession\n",
    "from sagemaker.session import Session\n",
    "\n",
    "from pipeline_autogluon_tabular import get_pipeline"
   ]
  },
  {
   "cell_type": "code",
   "execution_count": 3,
   "id": "e7aced4c-5276-4f07-b40f-8a98e53f6b09",
   "metadata": {},
   "outputs": [
    {
     "name": "stderr",
     "output_type": "stream",
     "text": [
      "INFO:botocore.credentials:Found credentials from IAM Role: BaseNotebookInstanceEc2InstanceRole\n",
      "INFO:botocore.credentials:Found credentials from IAM Role: BaseNotebookInstanceEc2InstanceRole\n"
     ]
    },
    {
     "name": "stdout",
     "output_type": "stream",
     "text": [
      "Role: arn:aws:iam::628182899181:role/service-role/AmazonSageMaker-ExecutionRole-20250728T162690\n"
     ]
    }
   ],
   "source": [
    "region = os.environ.get(\"AWS_DEFAULT_REGION\")\n",
    "sagemaker_session = Session(boto3.Session(region_name=region))\n",
    "default_bucket = sagemaker_session.default_bucket()\n",
    "role = sagemaker.get_execution_role()\n",
    "print(\"Role:\", role)"
   ]
  },
  {
   "cell_type": "code",
   "execution_count": 4,
   "id": "5910ef25-8da3-44fb-99f0-ea99078f3185",
   "metadata": {},
   "outputs": [
    {
     "name": "stderr",
     "output_type": "stream",
     "text": [
      "INFO:botocore.credentials:Found credentials from IAM Role: BaseNotebookInstanceEc2InstanceRole\n",
      "WARNING:sagemaker.workflow.utilities:The input argument instance_type of function (sagemaker.image_uris.retrieve) is a pipeline variable (<class 'sagemaker.workflow.parameters.ParameterString'>), which is interpreted in pipeline execution time only. As the function needs to evaluate the argument value in SDK compile time, the default_value of this Parameter object will be used to override it. Please make sure the default_value is valid.\n",
      "INFO:sagemaker.image_uris:Defaulting to only available Python version: py3\n",
      "WARNING:sagemaker.workflow.utilities:The input argument instance_type of function (sagemaker.image_uris.retrieve) is a pipeline variable (<class 'sagemaker.workflow.parameters.ParameterString'>), which is interpreted in pipeline execution time only. As the function needs to evaluate the argument value in SDK compile time, the default_value of this Parameter object will be used to override it. Please make sure the default_value is valid.\n",
      "INFO:sagemaker.image_uris:Defaulting to only available Python version: py3\n",
      "WARNING:sagemaker.workflow.utilities:The input argument instance_type of function (sagemaker.image_uris.retrieve) is a pipeline variable (<class 'sagemaker.workflow.parameters.ParameterString'>), which is interpreted in pipeline execution time only. As the function needs to evaluate the argument value in SDK compile time, the default_value of this Parameter object will be used to override it. Please make sure the default_value is valid.\n",
      "Ignoring the following arguments when retrieving image uri for JumpStart model id 'autogluon-classification-ensemble': {'framework': 'autogluon'}\n",
      "INFO:sagemaker.jumpstart:Ignoring the following arguments when retrieving image uri for JumpStart model id 'autogluon-classification-ensemble': {'framework': 'autogluon'}\n",
      "Using model 'autogluon-classification-ensemble' with wildcard version identifier '*'. You can pin to version '2.0.16' for more stable results. Note that models may have different input/output signatures after a major version upgrade.\n",
      "WARNING:sagemaker.jumpstart:Using model 'autogluon-classification-ensemble' with wildcard version identifier '*'. You can pin to version '2.0.16' for more stable results. Note that models may have different input/output signatures after a major version upgrade.\n",
      "INFO:botocore.credentials:Found credentials from IAM Role: BaseNotebookInstanceEc2InstanceRole\n",
      "Ignoring the following arguments when retrieving image uri for JumpStart model id 'autogluon-classification-ensemble': {'framework': 'autogluon'}\n",
      "INFO:sagemaker.jumpstart:Ignoring the following arguments when retrieving image uri for JumpStart model id 'autogluon-classification-ensemble': {'framework': 'autogluon'}\n"
     ]
    },
    {
     "data": {
      "text/plain": [
       "<sagemaker.workflow.pipeline.Pipeline at 0x7ff2ac2f7f40>"
      ]
     },
     "execution_count": 4,
     "metadata": {},
     "output_type": "execute_result"
    }
   ],
   "source": [
    "pipeline = get_pipeline(region=region, default_bucket=default_bucket)\n",
    "pipeline"
   ]
  },
  {
   "cell_type": "code",
   "execution_count": 5,
   "id": "6bc4c387-8caf-4f5e-b354-a5cf1f86bc0d",
   "metadata": {},
   "outputs": [
    {
     "name": "stderr",
     "output_type": "stream",
     "text": [
      "WARNING:sagemaker.workflow.utilities:Popping out 'ProcessingJobName' from the pipeline definition by default since it will be overridden at pipeline execution time. Please utilize the PipelineDefinitionConfig to persist this field in the pipeline definition if desired.\n",
      "WARNING:sagemaker.workflow.utilities:Popping out 'ProcessingJobName' from the pipeline definition by default since it will be overridden at pipeline execution time. Please utilize the PipelineDefinitionConfig to persist this field in the pipeline definition if desired.\n",
      "WARNING:sagemaker.workflow.utilities:Popping out 'TrainingJobName' from the pipeline definition by default since it will be overridden at pipeline execution time. Please utilize the PipelineDefinitionConfig to persist this field in the pipeline definition if desired.\n",
      "WARNING:sagemaker.workflow.utilities:Popping out 'ProcessingJobName' from the pipeline definition by default since it will be overridden at pipeline execution time. Please utilize the PipelineDefinitionConfig to persist this field in the pipeline definition if desired.\n",
      "WARNING:sagemaker.estimator:No finished training job found associated with this estimator. Please make sure this estimator is only used for building workflow config\n",
      "WARNING:sagemaker.workflow._utils:Popping out 'CertifyForMarketplace' from the pipeline definition since it will be overridden in pipeline execution time.\n",
      "WARNING:sagemaker.workflow.utilities:Popping out 'ModelPackageName' from the pipeline definition by default since it will be overridden at pipeline execution time. Please utilize the PipelineDefinitionConfig to persist this field in the pipeline definition if desired.\n",
      "WARNING:sagemaker.workflow.utilities:Popping out 'ProcessingJobName' from the pipeline definition by default since it will be overridden at pipeline execution time. Please utilize the PipelineDefinitionConfig to persist this field in the pipeline definition if desired.\n",
      "WARNING:sagemaker.workflow.utilities:Popping out 'ProcessingJobName' from the pipeline definition by default since it will be overridden at pipeline execution time. Please utilize the PipelineDefinitionConfig to persist this field in the pipeline definition if desired.\n",
      "WARNING:sagemaker.workflow.utilities:Popping out 'TrainingJobName' from the pipeline definition by default since it will be overridden at pipeline execution time. Please utilize the PipelineDefinitionConfig to persist this field in the pipeline definition if desired.\n",
      "WARNING:sagemaker.workflow.utilities:Popping out 'ProcessingJobName' from the pipeline definition by default since it will be overridden at pipeline execution time. Please utilize the PipelineDefinitionConfig to persist this field in the pipeline definition if desired.\n",
      "WARNING:sagemaker.estimator:No finished training job found associated with this estimator. Please make sure this estimator is only used for building workflow config\n",
      "WARNING:sagemaker.workflow._utils:Popping out 'CertifyForMarketplace' from the pipeline definition since it will be overridden in pipeline execution time.\n",
      "WARNING:sagemaker.workflow.utilities:Popping out 'ModelPackageName' from the pipeline definition by default since it will be overridden at pipeline execution time. Please utilize the PipelineDefinitionConfig to persist this field in the pipeline definition if desired.\n"
     ]
    },
    {
     "data": {
      "text/plain": [
       "{'PipelineArn': 'arn:aws:sagemaker:us-east-1:628182899181:pipeline/Autogluon-Tabular-Pipeline',\n",
       " 'PipelineVersionId': 11,\n",
       " 'ResponseMetadata': {'RequestId': '9b83bfcc-4659-42c4-8a3a-f39589d175b5',\n",
       "  'HTTPStatusCode': 200,\n",
       "  'HTTPHeaders': {'x-amzn-requestid': '9b83bfcc-4659-42c4-8a3a-f39589d175b5',\n",
       "   'content-type': 'application/x-amz-json-1.1',\n",
       "   'content-length': '117',\n",
       "   'date': 'Sat, 16 Aug 2025 23:54:08 GMT'},\n",
       "  'RetryAttempts': 0}}"
      ]
     },
     "execution_count": 5,
     "metadata": {},
     "output_type": "execute_result"
    }
   ],
   "source": [
    "pipeline.upsert(role_arn=role)  # uses the attached execution role"
   ]
  },
  {
   "cell_type": "code",
   "execution_count": 6,
   "id": "9e8c3e66-f2c0-4224-809a-2abb8db35762",
   "metadata": {
    "scrolled": true
   },
   "outputs": [
    {
     "name": "stdout",
     "output_type": "stream",
     "text": [
      "Started pipeline execution: arn:aws:sagemaker:us-east-1:628182899181:pipeline/Autogluon-Tabular-Pipeline/execution/vh4s3sj737bz\n"
     ]
    }
   ],
   "source": [
    "# ---- Set your parameters here ----\n",
    "params = {\n",
    "    \"InputDataS3Uri\": f\"s3://{default_bucket}/autogluon/input/covid.csv\",\n",
    "    \"LabelColumn\": \"mortality\",\n",
    "    \"ProblemType\": \"classification\",\n",
    "    \"ProcessingInstanceType\": \"ml.m5.2xlarge\",\n",
    "    \"TrainInstanceType\": \"ml.m5.4xlarge\",  # \"ml.g5.2xlarge\",\n",
    "    \"TimeLimitSeconds\": 900,  # 15 minutes\n",
    "    \"AutoStack\": \"true\",\n",
    "    \"Presets\": \"medium_quality_faster_train\",\n",
    "    \"ValFraction\": 0.2,\n",
    "    \"AccuracyThreshold\": 0.8,\n",
    "    \"RMSEThreshold\": 1e9,\n",
    "    \"ModelPackageGroupName\": \"AutogluonTabular\",\n",
    "    \"ModelApprovalStatus\": \"PendingManualApproval\",\n",
    "}\n",
    "\n",
    "execution = pipeline.start(parameters=params)\n",
    "print(\"Started pipeline execution:\", execution.arn)"
   ]
  },
  {
   "cell_type": "code",
   "execution_count": 7,
   "id": "daceb780-a411-4a3c-9cc1-112ed67d57e4",
   "metadata": {},
   "outputs": [
    {
     "name": "stdout",
     "output_type": "stream",
     "text": [
      "[2025-08-16T23:54:08Z] Pipeline: Executing\n",
      "[2025-08-16T23:54:38Z] Step/FeatureEngineer: Executing\n",
      "[2025-08-16T23:54:38Z] Processing/pipelines-vh4s3sj737bz-FeatureEngineer-UUNlN2eAhh: InProgress\n",
      "[2025-08-16T23:57:10Z] Step/FeatureEngineer: Succeeded\n",
      "[2025-08-16T23:57:10Z] Processing/pipelines-vh4s3sj737bz-FeatureEngineer-UUNlN2eAhh: Completed\n",
      "[2025-08-16T23:57:10Z] Step/PreprocessData: Executing\n",
      "[2025-08-16T23:57:10Z] Processing/pipelines-vh4s3sj737bz-PreprocessData-s4XIH9qdTO: InProgress\n",
      "[2025-08-16T23:59:41Z] Step/PreprocessData: Succeeded\n",
      "[2025-08-16T23:59:41Z] Processing/pipelines-vh4s3sj737bz-PreprocessData-s4XIH9qdTO: Completed\n",
      "[2025-08-16T23:59:41Z] Step/TrainAutogluon: Executing\n",
      "[2025-08-16T23:59:41Z] Training/pipelines-vh4s3sj737bz-TrainAutogluon-MuQgmm5gbe: InProgress\n",
      "[2025-08-16T23:59:41Z] Training/pipelines-vh4s3sj737bz-TrainAutogluon-MuQgmm5gbe/Progress: Starting: Preparing the instances for training\n",
      "[2025-08-17T00:00:11Z] Training/pipelines-vh4s3sj737bz-TrainAutogluon-MuQgmm5gbe/Progress: Downloading: Downloading the training image\n",
      "[2025-08-17T00:01:12Z] Training/pipelines-vh4s3sj737bz-TrainAutogluon-MuQgmm5gbe/Progress: Training: Training image download completed. Training in progress.\n",
      "[2025-08-17T01:44:48Z] Step/TrainAutogluon: Succeeded\n",
      "[2025-08-17T01:44:48Z] Training/pipelines-vh4s3sj737bz-TrainAutogluon-MuQgmm5gbe: Completed\n",
      "[2025-08-17T01:44:48Z] Training/pipelines-vh4s3sj737bz-TrainAutogluon-MuQgmm5gbe/Progress: Completed: Training job completed\n",
      "[2025-08-17T01:44:48Z] Step/EvaluateModel: Starting\n",
      "[2025-08-17T01:45:18Z] Step/EvaluateModel: Executing\n",
      "[2025-08-17T01:45:19Z] Processing/pipelines-vh4s3sj737bz-EvaluateModel-5mFFAfpUcD: InProgress\n",
      "[2025-08-17T01:49:52Z] Step/EvaluateModel: Succeeded\n",
      "[2025-08-17T01:49:52Z] Processing/pipelines-vh4s3sj737bz-EvaluateModel-5mFFAfpUcD: Completed\n",
      "[2025-08-17T01:50:22Z] Pipeline: Succeeded\n",
      "[2025-08-17T01:50:22Z] Step/CheckAccuracyThreshold: Succeeded\n",
      "[2025-08-17T01:50:22Z] Step/RegisterModelClassification-RegisterModel: Succeeded\n",
      "\n",
      "Final pipeline status: Succeeded\n"
     ]
    }
   ],
   "source": [
    "import time, datetime, boto3\n",
    "\n",
    "def poll_pipeline(execution_arn: str, poll_sec: int = 20):\n",
    "    sm = boto3.client(\"sagemaker\")\n",
    "\n",
    "    # helper to print once per change\n",
    "    seen = {\"pipeline\": None}\n",
    "    last_print = 0\n",
    "\n",
    "    def _print_once(label, value):\n",
    "        nonlocal seen\n",
    "        if seen.get(label) != value:\n",
    "            print(f\"[{datetime.datetime.utcnow().isoformat(timespec='seconds')}Z] {label}: {value}\")\n",
    "            seen[label] = value\n",
    "\n",
    "    while True:\n",
    "        # 1) High-level pipeline status\n",
    "        desc = sm.describe_pipeline_execution(PipelineExecutionArn=execution_arn)\n",
    "        p_status = desc[\"PipelineExecutionStatus\"]\n",
    "        _print_once(\"Pipeline\", p_status)\n",
    "\n",
    "        # 2) Each step + child job details\n",
    "        steps = sm.list_pipeline_execution_steps(PipelineExecutionArn=execution_arn)[\"PipelineExecutionSteps\"]\n",
    "        # sort by start time for a stable printout\n",
    "        steps = sorted(steps, key=lambda s: s.get(\"StartTime\", datetime.datetime.min))\n",
    "\n",
    "        for s in steps:\n",
    "            name = s[\"StepName\"]\n",
    "            status = s[\"StepStatus\"]\n",
    "            _print_once(f\"Step/{name}\", status)\n",
    "\n",
    "            # Only print failure reason once if present\n",
    "            if status in (\"Failed\", \"Stopped\") and s.get(\"FailureReason\"):\n",
    "                _print_once(f\"Step/{name}/Failure\", s[\"FailureReason\"])\n",
    "\n",
    "            md = s.get(\"Metadata\", {})\n",
    "            # Surface Processing job status/progress\n",
    "            if \"ProcessingJob\" in md:\n",
    "                pj_name = md[\"ProcessingJob\"][\"Arn\"].split(\"/\")[-1]\n",
    "                pj = sm.describe_processing_job(ProcessingJobName=pj_name)\n",
    "                _print_once(f\"Processing/{pj_name}\", pj[\"ProcessingJobStatus\"])\n",
    "                if pj.get(\"FailureReason\"):\n",
    "                    _print_once(f\"Processing/{pj_name}/Failure\", pj[\"FailureReason\"])\n",
    "\n",
    "            # Surface Training job status + secondary transitions (progress messages)\n",
    "            if \"TrainingJob\" in md:\n",
    "                tj_name = md[\"TrainingJob\"][\"Arn\"].split(\"/\")[-1]\n",
    "                tj = sm.describe_training_job(TrainingJobName=tj_name)\n",
    "                _print_once(f\"Training/{tj_name}\", tj[\"TrainingJobStatus\"])\n",
    "                if tj.get(\"SecondaryStatusTransitions\"):\n",
    "                    last = tj[\"SecondaryStatusTransitions\"][-1]\n",
    "                    msg = f\"{last['Status']}: {last.get('StatusMessage','')}\"\n",
    "                    _print_once(f\"Training/{tj_name}/Progress\", msg.strip())\n",
    "                if tj.get(\"FailureReason\"):\n",
    "                    _print_once(f\"Training/{tj_name}/Failure\", tj[\"FailureReason\"])\n",
    "\n",
    "        # Stop when pipeline reaches a terminal state\n",
    "        if p_status in (\"Succeeded\", \"Failed\", \"Stopped\"):\n",
    "            print(\"\\nFinal pipeline status:\", p_status)\n",
    "            if desc.get(\"FailureReason\"):\n",
    "                print(\"Pipeline failure reason:\", desc[\"FailureReason\"])\n",
    "            break\n",
    "\n",
    "        time.sleep(poll_sec)\n",
    "\n",
    "\n",
    "poll_pipeline(execution.arn, poll_sec=30)"
   ]
  },
  {
   "cell_type": "code",
   "execution_count": 8,
   "id": "a581d08b-ced8-48d5-b540-f2c138f374c7",
   "metadata": {},
   "outputs": [],
   "source": [
    "# Optional wait (comment out if you don't want to block)\n",
    "\n",
    "# execution.wait(delay=60, max_attempts=1000)\n",
    "\n",
    "# print(\"Status:\", execution.describe().get(\"PipelineExecutionStatus\"))"
   ]
  },
  {
   "cell_type": "code",
   "execution_count": 9,
   "id": "9fbecb97-741b-485b-b3c2-7bf25ef821da",
   "metadata": {},
   "outputs": [],
   "source": [
    "# import boto3\n",
    "# sm = boto3.client(\"sagemaker\")\n",
    "\n",
    "# # get the training job name from the execution\n",
    "# steps = sm.list_pipeline_execution_steps(PipelineExecutionArn=execution.arn)[\"PipelineExecutionSteps\"]\n",
    "# tname = next(s[\"Metadata\"][\"TrainingJob\"][\"Arn\"].split(\"/\")[-1] for s in steps if s[\"StepName\"]==\"TrainAutogluon\")\n",
    "\n",
    "# desc = sm.describe_training_job(TrainingJobName=tname)\n",
    "# print(\"Status:\", desc[\"TrainingJobStatus\"])\n",
    "# print(\"FailureReason:\", desc.get(\"FailureReason\"))\n",
    "# print(\"StoppingCondition:\", desc.get(\"StoppingCondition\"))\n",
    "# for tr in desc.get(\"SecondaryStatusTransitions\", []):\n",
    "#     print(tr[\"Status\"], tr[\"StatusMessage\"])\n",
    "\n",
    "# Status: Stopped\n",
    "# FailureReason: None\n",
    "# StoppingCondition: {'MaxRuntimeInSeconds': 900}\n",
    "# Starting Starting the training job\n",
    "# Pending Preparing the instances for training\n",
    "# Downloading Downloading the training image\n",
    "# Training Training image download completed. Training in progress.\n",
    "# Stopping Stopping the training job\n",
    "# Uploading Uploading generated training model\n",
    "# MaxRuntimeExceeded Training job runtime exceeded MaxRuntimeInSeconds provided"
   ]
  },
  {
   "cell_type": "code",
   "execution_count": null,
   "id": "8d65608d-9a65-49e9-a502-90be492cab92",
   "metadata": {},
   "outputs": [],
   "source": []
  }
 ],
 "metadata": {
  "kernelspec": {
   "display_name": "conda_python3",
   "language": "python",
   "name": "conda_python3"
  },
  "language_info": {
   "codemirror_mode": {
    "name": "ipython",
    "version": 3
   },
   "file_extension": ".py",
   "mimetype": "text/x-python",
   "name": "python",
   "nbconvert_exporter": "python",
   "pygments_lexer": "ipython3",
   "version": "3.10.18"
  }
 },
 "nbformat": 4,
 "nbformat_minor": 5
}
